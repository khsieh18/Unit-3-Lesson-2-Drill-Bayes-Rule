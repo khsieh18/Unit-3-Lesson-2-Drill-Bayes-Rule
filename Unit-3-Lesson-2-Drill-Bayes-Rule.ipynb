{
 "cells": [
  {
   "cell_type": "code",
   "execution_count": 1,
   "metadata": {},
   "outputs": [],
   "source": [
    "#Question 1\n",
    "# the probability of positive resuilt \n",
    "# = the probability of having disease x the paobability of positive result given having the disease\n",
    "#  + the probability of not having disease x the paobability of positive result given not having the disease\n",
    "# = 0.5% * 98% + 99.5% * 10%\n",
    "# = 0.1044"
   ]
  },
  {
   "cell_type": "code",
   "execution_count": 2,
   "metadata": {},
   "outputs": [],
   "source": [
    "#Question 2\n",
    "# the probability of positive result given haveing the disease\n",
    "# = 98%"
   ]
  },
  {
   "cell_type": "code",
   "execution_count": 3,
   "metadata": {},
   "outputs": [],
   "source": [
    "#Question 3\n",
    "# the probability of negative result given not having the disease\n",
    "# = 90%"
   ]
  },
  {
   "cell_type": "code",
   "execution_count": 4,
   "metadata": {},
   "outputs": [],
   "source": [
    "#Question 4\n",
    "# the probability of misclassifying the person \n",
    "# = the probability of negative result from the diseased person \n",
    "#  + the probability of positive result from the not diseased person\n",
    "# = the probability of having disease x the paobability of negative result given having the disease\n",
    "#  + the probability of not having disease x the paobability of positive result given not having the disease\n",
    "# = 0.5% * 2% + 99.5% * 10%\n",
    "# = 0.0996"
   ]
  }
 ],
 "metadata": {
  "kernelspec": {
   "display_name": "Python 3",
   "language": "python",
   "name": "python3"
  },
  "language_info": {
   "codemirror_mode": {
    "name": "ipython",
    "version": 3
   },
   "file_extension": ".py",
   "mimetype": "text/x-python",
   "name": "python",
   "nbconvert_exporter": "python",
   "pygments_lexer": "ipython3",
   "version": "3.7.0"
  }
 },
 "nbformat": 4,
 "nbformat_minor": 2
}
